{
 "cells": [
  {
   "cell_type": "code",
   "execution_count": 2,
   "metadata": {
    "collapsed": false
   },
   "outputs": [
    {
     "data": {
      "text/plain": [
       "'the given path here is incorrect'"
      ]
     },
     "execution_count": 2,
     "metadata": {
     },
     "output_type": "execute_result"
    }
   ],
   "source": [
    "import os\n",
    "import cv2\n",
    "\n",
    "f = os.listdir('/projects/27d49bab-286b-40e1-9c2d-4ad38ed1cd0d/HandGestureProject/right-hands') \n",
    "\n",
    "\"\"\"the given path here is incorrect\"\"\""
   ]
  },
  {
   "cell_type": "code",
   "execution_count": 3,
   "metadata": {
    "collapsed": false
   },
   "outputs": [
    {
     "ename": "NameError",
     "evalue": "name 'f' is not defined",
     "output_type": "error",
     "traceback": [
      "\u001b[0;31m---------------------------------------------------------------------------\u001b[0m",
      "\u001b[0;31mNameError\u001b[0m                                 Traceback (most recent call last)",
      "Input \u001b[0;32mIn [3]\u001b[0m, in \u001b[0;36m<cell line: 1>\u001b[0;34m()\u001b[0m\n\u001b[0;32m----> 1\u001b[0m \u001b[38;5;28;01mfor\u001b[39;00m img \u001b[38;5;129;01min\u001b[39;00m \u001b[43mf\u001b[49m:\n\u001b[1;32m      2\u001b[0m     flipped \u001b[38;5;241m=\u001b[39m cv2\u001b[38;5;241m.\u001b[39mflip(img, \u001b[38;5;241m1\u001b[39m)\n\u001b[1;32m      3\u001b[0m     os\u001b[38;5;241m.\u001b[39mpath\u001b[38;5;241m.\u001b[39mjoin(\u001b[38;5;124m'\u001b[39m\u001b[38;5;124m/projects/27d49bab-286b-40e1-9c2d-4ad38ed1cd0d/left-hands\u001b[39m\u001b[38;5;124m'\u001b[39m, flipped)\n",
      "\u001b[0;31mNameError\u001b[0m: name 'f' is not defined"
     ]
    }
   ],
   "source": [
    "for img in f:\n",
    "    flipped = cv2.flip(img, 1)\n",
    "    os.path.join('/projects/27d49bab-286b-40e1-9c2d-4ad38ed1cd0d/left-hands', flipped)\n",
    "\"\"\" in the line above, you are trying to join image variable flipped with the filepath which is invalid\"\"\""
   ]
  },
  {
   "cell_type": "code",
   "execution_count": 1,
   "metadata": {
    "collapsed": false
   },
   "outputs": [
    {
     "data": {
      "text/plain": [
       "['right_google (1).jpg']"
      ]
     },
     "execution_count": 1,
     "metadata": {
     },
     "output_type": "execute_result"
    }
   ],
   "source": [
    "\"\"\"the correct version should be something like this\"\"\"\n",
    "\n",
    "import os\n",
    "import cv2\n",
    "\n",
    "folder_path = \"/projects/27d49bab-286b-40e1-9c2d-4ad38ed1cd0d/HandGestureProject/right-hands/\"\n",
    "f = os.listdir(folder_path)\n",
    "f"
   ]
  },
  {
   "cell_type": "code",
   "execution_count": 16,
   "metadata": {
    "collapsed": false
   },
   "outputs": [
    {
     "name": "stdout",
     "output_type": "stream",
     "text": [
      "/projects/27d49bab-286b-40e1-9c2d-4ad38ed1cd0d/HandGestureProject/left-hands/0.jpg\n"
     ]
    }
   ],
   "source": [
    "for i, img_path in enumerate(f):\n",
    "    img = cv2.imread(folder_path+img_path)\n",
    "    flipped = cv2.flip(img, 1)\n",
    "    save_file_path = os.path.join('/projects/27d49bab-286b-40e1-9c2d-4ad38ed1cd0d/HandGestureProject/left-hands/', str(i) + \".jpg\")\n",
    "    print(save_file_path)\n",
    "    cv2.imwrite(save_file_path, flipped)"
   ]
  },
  {
   "cell_type": "code",
   "execution_count": 0,
   "metadata": {
    "collapsed": false
   },
   "outputs": [
   ],
   "source": [
   ]
  }
 ],
 "metadata": {
  "kernelspec": {
   "display_name": "Python (cv_env)",
   "language": "python",
   "metadata": {
    "debugger": true
   },
   "name": "cv_env",
   "resource_dir": "/projects/27d49bab-286b-40e1-9c2d-4ad38ed1cd0d/.local/share/jupyter/kernels/cv_env"
  },
  "language_info": {
   "codemirror_mode": {
    "name": "ipython",
    "version": 3
   },
   "file_extension": ".py",
   "mimetype": "text/x-python",
   "name": "python",
   "nbconvert_exporter": "python",
   "pygments_lexer": "ipython3",
   "version": "3.8.13"
  }
 },
 "nbformat": 4,
 "nbformat_minor": 4
}